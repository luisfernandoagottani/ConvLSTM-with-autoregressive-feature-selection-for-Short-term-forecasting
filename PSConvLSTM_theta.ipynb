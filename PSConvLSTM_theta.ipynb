{
 "cells": [
  {
   "cell_type": "code",
   "execution_count": 1,
   "metadata": {},
   "outputs": [],
   "source": [
    "import pandas as pd\n",
    "import numpy as np\n",
    "import datetime as dt\n",
    "\n",
    "# My packages\n",
    "from packages.thesis_sequence_algorithm_nominmax import thesis_sequence_algorithm\n",
    "from packages.thesis_model_nominmax import evaluate_model\n",
    "\n",
    "# Visualization<\n",
    "import matplotlib.pyplot as plt\n",
    "import time\n",
    "from dateutil.relativedelta import relativedelta\n"
   ]
  },
  {
   "cell_type": "code",
   "execution_count": 2,
   "metadata": {},
   "outputs": [],
   "source": [
    "dataset = pd.read_csv('dataset_final_min.csv', infer_datetime_format=True, parse_dates=['datetime'], index_col=['datetime'])\n",
    "dataset_h = pd.read_csv('dataset_final.csv', infer_datetime_format=True, parse_dates=['datetime'], index_col=['datetime'])"
   ]
  },
  {
   "cell_type": "markdown",
   "metadata": {},
   "source": [
    "# Thesis Model"
   ]
  },
  {
   "cell_type": "markdown",
   "metadata": {},
   "source": [
    "- Prepare warm up period (Define quantity)\n",
    "- Train the ConvLSTM Model by warm-up period initially\n",
    "- Prepare previous hourly step (Define Quantity)\n",
    "- Select optimal correlated leg load by the Power Spectrum\n",
    "- If Correlated leg > Theta\n",
    "    - Update and reshape the input vector for ConvLSTM model\n",
    "    - Implement single step ahead forecast\n",
    "    - Retrain the ConvLSTM model by the observed hourly load of previous predicted time step\n",
    "- Else \n",
    "    - Implement persistence model\n",
    "    - Retrain the ConvLSTM model by the observed hourly load of previous predicted time step \n"
   ]
  },
  {
   "cell_type": "markdown",
   "metadata": {},
   "source": []
  },
  {
   "cell_type": "markdown",
   "metadata": {},
   "source": [
    "score_PSConvLSTM"
   ]
  },
  {
   "cell_type": "markdown",
   "metadata": {},
   "source": [
    "# Month Test"
   ]
  },
  {
   "cell_type": "code",
   "execution_count": 3,
   "metadata": {},
   "outputs": [],
   "source": [
    "dataset_h = dataset_h.loc[:,['Global_active_power','Sub_metering_1','Sub_metering_2','Sub_metering_3','tempC','weekday','time']]\n",
    "df = dataset_h[(dataset_h.index >= '2008-08-01') & (dataset_h.index < '2010-08-01')]\n",
    "df"
   ]
  },
  {
   "cell_type": "code",
   "execution_count": 6,
   "metadata": {},
   "outputs": [
    {
     "name": "stdout",
     "output_type": "stream",
     "text": [
      "4.031637668609619\n",
      "17.90216612815857\n",
      "4.239997625350952\n",
      "20.256495237350464\n",
      "4.346306324005127\n",
      "18.720919847488403\n",
      "4.480965614318848\n",
      "19.970385551452637\n",
      "4.5101637840271\n",
      "20.079926013946533\n",
      "4.48023533821106\n",
      "18.48240828514099\n",
      "4.464327335357666\n",
      "20.017788887023926\n",
      "4.380788564682007\n",
      "19.876405477523804\n",
      "4.449471473693848\n",
      "21.26071310043335\n",
      "4.625274658203125\n",
      "20.783589601516724\n",
      "4.7407286167144775\n",
      "24.04632329940796\n",
      "5.146794080734253\n",
      "23.90155053138733\n",
      "5.17765736579895\n",
      "21.16053032875061\n",
      "5.222679853439331\n",
      "21.500576972961426\n",
      "5.0359368324279785\n",
      "22.829967498779297\n",
      "4.9598023891448975\n",
      "23.17335820198059\n",
      "5.33512282371521\n",
      "22.699806213378906\n",
      "5.366871356964111\n",
      "18.8125159740448\n",
      "4.964226245880127\n"
     ]
    }
   ],
   "source": [
    "list_theta = [3.8,3.8,3.8,3.8,3.8]\n",
    "for i in list_theta:\n",
    "        start_date = df.index[0]\n",
    "        end_date = start_date + relativedelta(months = 1)\n",
    "        while end_date < df.index[-1]:\n",
    "            start_date = pd.to_datetime(start_date) + relativedelta(months = 1)\n",
    "            end_date = pd.to_datetime(start_date) + relativedelta(months = 1)\n",
    "            dataset_filtered = df[(df.index >= start_date) & (df.index < end_date)]\n",
    "            autocorrelation_type = 'power_spectrum'\n",
    "            warm_up_time = 168\n",
    "            theta_threshold = i\n",
    "            leg_days_time = 168\n",
    "            n_steps = 1\n",
    "            n_length = 1\n",
    "            n_input = n_steps * n_length\n",
    "            n_features = df.shape[1]\n",
    "            n_out = 1\n",
    "            epochs = 20\n",
    "            epochs_retrain = 1\n",
    "            batch_size = 1\n",
    "            filters = 36\n",
    "            activation = 'relu'\n",
    "            loss = 'mse'\n",
    "            optimizer = 'adam'\n",
    "            karnel = (1,2)\n",
    "            dense_1 = 4\n",
    "            dense_2 = 1\n",
    "            model_parameters_PSConvLSTM = thesis_sequence_algorithm(dataset_filtered, \n",
    "                                                                    autocorrelation_type, \n",
    "                                                                    warm_up_time, \n",
    "                                                                    theta_threshold, \n",
    "                                                                    leg_days_time, \n",
    "                                                                    n_steps, \n",
    "                                                                    n_length, \n",
    "                                                                    n_input, \n",
    "                                                                    n_features, \n",
    "                                                                    n_out, \n",
    "                                                                    epochs, \n",
    "                                                                    batch_size, \n",
    "                                                                    filters, \n",
    "                                                                    activation, \n",
    "                                                                    loss, \n",
    "                                                                    optimizer,\n",
    "                                                                    karnel,\n",
    "                                                                    epochs_retrain,\n",
    "                                                                    dense_1,\n",
    "                                                                    dense_2)\n",
    "            #RUN ALGO\n",
    "            start_time = time.time()\n",
    "            predict_list_PSConvLSTM, observed_list_PSConvLSTM = model_parameters_PSConvLSTM.master_algorithm()\n",
    "            scores_PSConvLSTM = evaluate_model(predict_list_PSConvLSTM, observed_list_PSConvLSTM)\n",
    "            score_PSConvLSTM, scores_PSConvLSTM = scores_PSConvLSTM.evaluate_model()\n",
    "            time_run = (time.time() - start_time)\n",
    "            # Read results csv\n",
    "            teste = pd.read_csv('params_test.csv', index_col= 'Unnamed: 0')\n",
    "            # Register actual version\n",
    "            resgister_version = {'start_date': start_date, 'end_date': end_date, 'warm_up_time': warm_up_time, 'leg_days' : leg_days_time,\n",
    "                                'theta_threshold': theta_threshold, 'leg_days_time': leg_days_time ,'n_length': n_length, 'epochs':epochs, 'filters':filters, \n",
    "                                'epochs_retrain': epochs_retrain, 'dense_1': dense_1, 'karnels' : [karnel], \n",
    "                                'score': score_PSConvLSTM, 'max_loss': np.max(scores_PSConvLSTM), 'time_run': time_run}\n",
    "            # Create Data Frame\n",
    "            resgister_version_df = pd.DataFrame(data = resgister_version, index = [pd.to_datetime(dt.datetime.today())] )\n",
    "            # Concat and save\n",
    "            pd.concat([teste, resgister_version_df]).to_csv('params_test.csv')"
   ]
  },
  {
   "cell_type": "code",
   "execution_count": 103,
   "metadata": {},
   "outputs": [
    {
     "data": {
      "text/plain": [
       "theta_threshold\n",
       "3.6    0.606819\n",
       "Name: score, dtype: float64"
      ]
     },
     "execution_count": 103,
     "metadata": {},
     "output_type": "execute_result"
    }
   ],
   "source": [
    "analysis_conv = teste[teste['Unnamed: 0'] > '2022-06-07 15:45:12.119314']\n",
    "analysis_conv.groupby(['theta_threshold'])['score'].mean().sort_values().head(1)"
   ]
  },
  {
   "cell_type": "code",
   "execution_count": 111,
   "metadata": {},
   "outputs": [],
   "source": [
    "best_results_for_each_month = analysis_conv.groupby('start_date').min()['score']"
   ]
  },
  {
   "cell_type": "code",
   "execution_count": 121,
   "metadata": {},
   "outputs": [
    {
     "data": {
      "text/plain": [
       "[<matplotlib.lines.Line2D at 0x1edb5c9a9e0>]"
      ]
     },
     "execution_count": 121,
     "metadata": {},
     "output_type": "execute_result"
    },
    {
     "data": {
      "image/png": "[encoded data removed]",
      "text/plain": [
       "<Figure size 432x288 with 1 Axes>"
      ]
     },
     "metadata": {
      "needs_background": "light"
     },
     "output_type": "display_data"
    }
   ],
   "source": [
    "plt.plot(persistence.reset_index()['score'])\n",
    "plt.plot(best_results_for_each_month.reset_index()['score'])"
   ]
  }
 ],
 "metadata": {
  "interpreter": {
   "hash": "cf7cbebc5ce87588cff64c97e052ede9c6372345284f1cc32a0df541c191be85"
  },
  "kernelspec": {
   "display_name": "Python 3.10.4 64-bit",
   "language": "python",
   "name": "python3"
  },
  "language_info": {
   "codemirror_mode": {
    "name": "ipython",
    "version": 3
   },
   "file_extension": ".py",
   "mimetype": "text/x-python",
   "name": "python",
   "nbconvert_exporter": "python",
   "pygments_lexer": "ipython3",
   "version": "3.10.4"
  },
  "orig_nbformat": 4
 },
 "nbformat": 4,
 "nbformat_minor": 2
}
